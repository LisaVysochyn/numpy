{
  "nbformat": 4,
  "nbformat_minor": 0,
  "metadata": {
    "colab": {
      "name": "numpy(10).ipynb",
      "provenance": [],
      "collapsed_sections": []
    },
    "kernelspec": {
      "name": "python3",
      "display_name": "Python 3"
    },
    "language_info": {
      "name": "python"
    }
  },
  "cells": [
    {
      "cell_type": "code",
      "metadata": {
        "id": "h2l2LCM0Yxun"
      },
      "source": [
        "import numpy as np"
      ],
      "execution_count": 1,
      "outputs": []
    },
    {
      "cell_type": "markdown",
      "metadata": {
        "id": "lRt0vkJldwJa"
      },
      "source": [
        "#10"
      ]
    },
    {
      "cell_type": "code",
      "metadata": {
        "colab": {
          "base_uri": "https://localhost:8080/"
        },
        "id": "YcufxdxoYzip",
        "outputId": "730f8cc2-dbd3-462a-9760-1104ad815747"
      },
      "source": [
        "#10\n",
        "arr = np.zeros((5,5), int)\n",
        "arr"
      ],
      "execution_count": 13,
      "outputs": [
        {
          "output_type": "execute_result",
          "data": {
            "text/plain": [
              "array([[0, 0, 0, 0, 0],\n",
              "       [0, 0, 0, 0, 0],\n",
              "       [0, 0, 0, 0, 0],\n",
              "       [0, 0, 0, 0, 0],\n",
              "       [0, 0, 0, 0, 0]])"
            ]
          },
          "metadata": {},
          "execution_count": 13
        }
      ]
    },
    {
      "cell_type": "code",
      "metadata": {
        "colab": {
          "base_uri": "https://localhost:8080/"
        },
        "id": "PJ_sVdjVZSds",
        "outputId": "8995bdbf-d0df-4c23-8dc8-353949ad6289"
      },
      "source": [
        "np.fill_diagonal(arr, 1)\n",
        "arr"
      ],
      "execution_count": 14,
      "outputs": [
        {
          "output_type": "execute_result",
          "data": {
            "text/plain": [
              "array([[1, 0, 0, 0, 0],\n",
              "       [0, 1, 0, 0, 0],\n",
              "       [0, 0, 1, 0, 0],\n",
              "       [0, 0, 0, 1, 0],\n",
              "       [0, 0, 0, 0, 1]])"
            ]
          },
          "metadata": {},
          "execution_count": 14
        }
      ]
    },
    {
      "cell_type": "markdown",
      "metadata": {
        "id": "YWz4MGZSdsVt"
      },
      "source": [
        "#4"
      ]
    },
    {
      "cell_type": "code",
      "metadata": {
        "colab": {
          "base_uri": "https://localhost:8080/"
        },
        "id": "t4Sk0-LFZk3c",
        "outputId": "842517a6-1fc4-406d-aa9f-fd177977f729"
      },
      "source": [
        "#4\n",
        "bar = np.array([[[5, -15, 15, 20],\n",
        "                 [25, -30, 35, 40],\n",
        "                 [45,  50, -7, -60]]])\n",
        "bar"
      ],
      "execution_count": 29,
      "outputs": [
        {
          "output_type": "execute_result",
          "data": {
            "text/plain": [
              "array([[[  5, -15,  15,  20],\n",
              "        [ 25, -30,  35,  40],\n",
              "        [ 45,  50,  -7, -60]]])"
            ]
          },
          "metadata": {},
          "execution_count": 29
        }
      ]
    },
    {
      "cell_type": "code",
      "metadata": {
        "colab": {
          "base_uri": "https://localhost:8080/"
        },
        "id": "9wDh0VZrcNaY",
        "outputId": "5a1f24c0-beb3-4603-b7da-8e25a358c28f"
      },
      "source": [
        "bar[bar < 0] = 0\n",
        "bar"
      ],
      "execution_count": 30,
      "outputs": [
        {
          "output_type": "execute_result",
          "data": {
            "text/plain": [
              "array([[[ 5,  0, 15, 20],\n",
              "        [25,  0, 35, 40],\n",
              "        [45, 50,  0,  0]]])"
            ]
          },
          "metadata": {},
          "execution_count": 30
        }
      ]
    },
    {
      "cell_type": "markdown",
      "metadata": {
        "id": "fxT4D8gbeY7-"
      },
      "source": [
        "#5"
      ]
    },
    {
      "cell_type": "code",
      "metadata": {
        "id": "0toTT9zhcNse"
      },
      "source": [
        "arr2 = np.array([[1, 2, 3],\n",
        "       [4, 5, 6],\n",
        "       [7, 8, 9]])"
      ],
      "execution_count": 47,
      "outputs": []
    },
    {
      "cell_type": "code",
      "metadata": {
        "id": "C4gdHxNCe2kP"
      },
      "source": [
        "arr3 = np.array([[0, 53, 10],\n",
        "       [2, 9, -3],\n",
        "       [1, 15, 24]])"
      ],
      "execution_count": 48,
      "outputs": []
    },
    {
      "cell_type": "code",
      "metadata": {
        "id": "9vV65TChfIGg"
      },
      "source": [
        "arr2.put([1, 3, 5], arr3)"
      ],
      "execution_count": 49,
      "outputs": []
    },
    {
      "cell_type": "code",
      "metadata": {
        "colab": {
          "base_uri": "https://localhost:8080/"
        },
        "id": "y5jjritPgNSg",
        "outputId": "0f8c4cf6-2c3b-4d5a-8479-3795449be6de"
      },
      "source": [
        "arr2"
      ],
      "execution_count": 50,
      "outputs": [
        {
          "output_type": "execute_result",
          "data": {
            "text/plain": [
              "array([[ 1,  0,  3],\n",
              "       [53,  5, 10],\n",
              "       [ 7,  8,  9]])"
            ]
          },
          "metadata": {},
          "execution_count": 50
        }
      ]
    },
    {
      "cell_type": "markdown",
      "metadata": {
        "id": "1Q7hvZbyhT01"
      },
      "source": [
        "#6"
      ]
    },
    {
      "cell_type": "code",
      "metadata": {
        "id": "r1RkBr83gcz8"
      },
      "source": [
        "arr4 = np.array([[1, 2, 0],\n",
        "                 [0, 5, 6],\n",
        "                 [7, 0, 9]])"
      ],
      "execution_count": 54,
      "outputs": []
    },
    {
      "cell_type": "code",
      "metadata": {
        "id": "zQOvMuqJhiF9"
      },
      "source": [
        "index = np.argwhere(arr4 == 0)"
      ],
      "execution_count": 59,
      "outputs": []
    },
    {
      "cell_type": "code",
      "metadata": {
        "colab": {
          "base_uri": "https://localhost:8080/"
        },
        "id": "OxShRj4oiG7O",
        "outputId": "95e45587-1146-44d1-edf0-fc6fe93f8fd9"
      },
      "source": [
        "index #індекси нульових елементів"
      ],
      "execution_count": 61,
      "outputs": [
        {
          "output_type": "execute_result",
          "data": {
            "text/plain": [
              "array([[0, 2],\n",
              "       [1, 0],\n",
              "       [2, 1]])"
            ]
          },
          "metadata": {},
          "execution_count": 61
        }
      ]
    },
    {
      "cell_type": "markdown",
      "metadata": {
        "id": "KdxViRFHjWYY"
      },
      "source": [
        "#7"
      ]
    },
    {
      "cell_type": "code",
      "metadata": {
        "id": "oH17Dzxrie_g"
      },
      "source": [
        "arr5 = np.array([[ 1,  0,  3],\n",
        "                 [53,  5, 10],\n",
        "                 [ 7,  8,  9]])"
      ],
      "execution_count": 62,
      "outputs": []
    },
    {
      "cell_type": "code",
      "metadata": {
        "id": "WnyvUWbcjaFu"
      },
      "source": [
        "rows = arr5[[1]]"
      ],
      "execution_count": 65,
      "outputs": []
    },
    {
      "cell_type": "code",
      "metadata": {
        "colab": {
          "base_uri": "https://localhost:8080/"
        },
        "id": "o8R6cq0ujf-h",
        "outputId": "edb59da0-9c12-45b3-8a2c-f908962be304"
      },
      "source": [
        "rows #Другий рядок(перший за порядком)"
      ],
      "execution_count": 67,
      "outputs": [
        {
          "output_type": "execute_result",
          "data": {
            "text/plain": [
              "array([[53,  5, 10]])"
            ]
          },
          "metadata": {},
          "execution_count": 67
        }
      ]
    },
    {
      "cell_type": "markdown",
      "metadata": {
        "id": "gOnYmsVLk3s1"
      },
      "source": [
        "#9"
      ]
    },
    {
      "cell_type": "code",
      "metadata": {
        "id": "maVJeDANkDSN"
      },
      "source": [
        "arr6 = np.array([[ 1,  0,  3],\n",
        "                 [53,  5, 10],\n",
        "                 [ 7,  8,  9]])"
      ],
      "execution_count": 71,
      "outputs": []
    },
    {
      "cell_type": "code",
      "metadata": {
        "id": "UdKVbbbhk-OC"
      },
      "source": [
        "rownumb  = np.where(np.any(arr6 > 7, axis = 1)) #Візьмемо число 7 за x"
      ],
      "execution_count": 75,
      "outputs": []
    },
    {
      "cell_type": "code",
      "metadata": {
        "colab": {
          "base_uri": "https://localhost:8080/"
        },
        "id": "R5nwGWKmldHi",
        "outputId": "7b8c9035-147e-497f-e61d-67ad563710d5"
      },
      "source": [
        "rownumb #номери рядків які містять числа > x(7)"
      ],
      "execution_count": 77,
      "outputs": [
        {
          "output_type": "execute_result",
          "data": {
            "text/plain": [
              "(array([1, 2]),)"
            ]
          },
          "metadata": {},
          "execution_count": 77
        }
      ]
    }
  ]
}